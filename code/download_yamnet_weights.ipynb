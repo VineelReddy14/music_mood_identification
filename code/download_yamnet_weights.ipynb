{
 "cells": [
  {
   "cell_type": "code",
   "execution_count": null,
   "id": "1d1a9902",
   "metadata": {},
   "outputs": [],
   "source": [
    "import torch, urllib.request, pathlib\n",
    "\n",
    "CKPT_URL = \"https://github.com/w-hc/torch_audioset/releases/download/v0.1/yamnet.pth\"\n",
    "dst = pathlib.Path(\"/mnt/data/Vineel/Music_mood_identification/yamnet_weights.pth\")\n",
    "\n",
    "if not dst.exists():\n",
    "    print(\"Downloading YAMNet pretrained weights …\")\n",
    "    urllib.request.urlretrieve(CKPT_URL, dst)\n",
    "    print(\"Saved to\", dst)\n"
   ]
  }
 ],
 "metadata": {
  "kernelspec": {
   "display_name": "tf-gpu-venv",
   "language": "python",
   "name": "python3"
  },
  "language_info": {
   "name": "python",
   "version": "3.10.12"
  }
 },
 "nbformat": 4,
 "nbformat_minor": 5
}
